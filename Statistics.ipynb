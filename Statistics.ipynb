{
 "cells": [
  {
   "cell_type": "markdown",
   "metadata": {},
   "source": [
    "# Statistics"
   ]
  },
  {
   "cell_type": "markdown",
   "metadata": {},
   "source": [
    "## Mean\n",
    "\n"
   ]
  },
  {
   "cell_type": "code",
   "execution_count": 1,
   "metadata": {
    "collapsed": false
   },
   "outputs": [
    {
     "name": "stdout",
     "output_type": "stream",
     "text": [
      "Mean of [1, 2, 3, 4, 5] is: 3.0\n",
      "Mean of [10, 20, 30, 40, 50] is: 30.0\n"
     ]
    }
   ],
   "source": [
    "import numpy as np\n",
    "arr_a = [1,2,3,4,5]\n",
    "arr_b = [10,20,30,40,50]\n",
    "\n",
    "mean_a = np.mean(arr_a)\n",
    "mean_b = np.mean(arr_b)\n",
    "print('Mean of {} is: {}'.format(arr_a,mean_a))\n",
    "print('Mean of {} is: {}'.format(arr_b,mean_b))"
   ]
  },
  {
   "cell_type": "code",
   "execution_count": null,
   "metadata": {
    "collapsed": true
   },
   "outputs": [],
   "source": []
  }
 ],
 "metadata": {
  "anaconda-cloud": {},
  "kernelspec": {
   "display_name": "Python [default]",
   "language": "python",
   "name": "python3"
  },
  "language_info": {
   "codemirror_mode": {
    "name": "ipython",
    "version": 3
   },
   "file_extension": ".py",
   "mimetype": "text/x-python",
   "name": "python",
   "nbconvert_exporter": "python",
   "pygments_lexer": "ipython3",
   "version": "3.5.2"
  }
 },
 "nbformat": 4,
 "nbformat_minor": 1
}
