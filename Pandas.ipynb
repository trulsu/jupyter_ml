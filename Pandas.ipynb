{
 "cells": [
  {
   "cell_type": "code",
   "execution_count": 7,
   "metadata": {
    "collapsed": false
   },
   "outputs": [
    {
     "name": "stdout",
     "output_type": "stream",
     "text": [
      "Column names: Index(['PassengerId', 'Survived', 'Pclass', 'Name', 'Sex', 'Age', 'SibSp',\n",
      "       'Parch', 'Ticket', 'Fare', 'Cabin', 'Embarked'],\n",
      "      dtype='object')\n",
      "Indexes: RangeIndex(start=0, stop=891, step=1)\n",
      "Datatypes: PassengerId      int64\n",
      "Survived         int64\n",
      "Pclass           int64\n",
      "Name            object\n",
      "Sex             object\n",
      "Age            float64\n",
      "SibSp            int64\n",
      "Parch            int64\n",
      "Ticket          object\n",
      "Fare           float64\n",
      "Cabin           object\n",
      "Embarked        object\n",
      "dtype: object\n",
      "Shape(rows,columns):(891, 12)\n",
      "Dimensions: 2\n",
      "First rows:\n",
      "   PassengerId  Survived  Pclass  \\\n",
      "0            1         0       3   \n",
      "1            2         1       1   \n",
      "2            3         1       3   \n",
      "3            4         1       1   \n",
      "4            5         0       3   \n",
      "\n",
      "                                                Name     Sex   Age  SibSp  \\\n",
      "0                            Braund, Mr. Owen Harris    male  22.0      1   \n",
      "1  Cumings, Mrs. John Bradley (Florence Briggs Th...  female  38.0      1   \n",
      "2                             Heikkinen, Miss. Laina  female  26.0      0   \n",
      "3       Futrelle, Mrs. Jacques Heath (Lily May Peel)  female  35.0      1   \n",
      "4                           Allen, Mr. William Henry    male  35.0      0   \n",
      "\n",
      "   Parch            Ticket     Fare Cabin Embarked  \n",
      "0      0         A/5 21171   7.2500   NaN        S  \n",
      "1      0          PC 17599  71.2833   C85        C  \n",
      "2      0  STON/O2. 3101282   7.9250   NaN        S  \n",
      "3      0            113803  53.1000  C123        S  \n",
      "4      0            373450   8.0500   NaN        S  \n"
     ]
    }
   ],
   "source": [
    "import pandas as pd\n",
    "data = pd.read_csv('titanic/train.csv')\n",
    "print('Column names: {}'.format(data.columns))\n",
    "print('Indexes: {}'.format(data.index))\n",
    "print('Datatypes: {}'.format(data.dtypes))\n",
    "print('Shape(rows,columns):{}'.format(data.shape))\n",
    "print('Dimensions: {}'.format(data.ndim))\n",
    "print('First rows:')\n",
    "print(data.head())"
   ]
  },
  {
   "cell_type": "markdown",
   "metadata": {},
   "source": [
    "You can do basic manipulation of rows using +-/ and so on:"
   ]
  },
  {
   "cell_type": "code",
   "execution_count": 8,
   "metadata": {
    "collapsed": false
   },
   "outputs": [
    {
     "name": "stdout",
     "output_type": "stream",
     "text": [
      "0    264.0\n",
      "1    456.0\n",
      "2    312.0\n",
      "3    420.0\n",
      "4    420.0\n",
      "Name: Age, dtype: float64\n"
     ]
    }
   ],
   "source": [
    "age_in_months = data['Age'] * 12\n",
    "print(age_in_months.head())"
   ]
  },
  {
   "cell_type": "code",
   "execution_count": 9,
   "metadata": {
    "collapsed": false
   },
   "outputs": [
    {
     "name": "stdout",
     "output_type": "stream",
     "text": [
      "1      C85\n",
      "3     C123\n",
      "6      E46\n",
      "10      G6\n",
      "11    C103\n",
      "Name: Cabin, dtype: object\n"
     ]
    }
   ],
   "source": [
    "# We can remove the rows that are null:\n",
    "cabin_is_null = data['Cabin'].isnull()\n",
    "cabin_notnull = data['Cabin'][cabin_is_null == False]\n",
    "print(cabin_notnull.head())"
   ]
  },
  {
   "cell_type": "code",
   "execution_count": 11,
   "metadata": {
    "collapsed": false
   },
   "outputs": [
    {
     "name": "stdout",
     "output_type": "stream",
     "text": [
      "    PassengerId  Survived  Pclass  \\\n",
      "1             2         1       1   \n",
      "3             4         1       1   \n",
      "6             7         0       1   \n",
      "10           11         1       3   \n",
      "11           12         1       1   \n",
      "\n",
      "                                                 Name     Sex   Age  SibSp  \\\n",
      "1   Cumings, Mrs. John Bradley (Florence Briggs Th...  female  38.0      1   \n",
      "3        Futrelle, Mrs. Jacques Heath (Lily May Peel)  female  35.0      1   \n",
      "6                             McCarthy, Mr. Timothy J    male  54.0      0   \n",
      "10                    Sandstrom, Miss. Marguerite Rut  female   4.0      1   \n",
      "11                           Bonnell, Miss. Elizabeth  female  58.0      0   \n",
      "\n",
      "    Parch    Ticket     Fare Cabin Embarked  \n",
      "1       0  PC 17599  71.2833   C85        C  \n",
      "3       0    113803  53.1000  C123        S  \n",
      "6       0     17463  51.8625   E46        S  \n",
      "10      1   PP 9549  16.7000    G6        S  \n",
      "11      0    113783  26.5500  C103        S  \n",
      "   index  PassengerId  Survived  Pclass  \\\n",
      "0      1            2         1       1   \n",
      "1      3            4         1       1   \n",
      "2      6            7         0       1   \n",
      "3     10           11         1       3   \n",
      "4     11           12         1       1   \n",
      "\n",
      "                                                Name     Sex   Age  SibSp  \\\n",
      "0  Cumings, Mrs. John Bradley (Florence Briggs Th...  female  38.0      1   \n",
      "1       Futrelle, Mrs. Jacques Heath (Lily May Peel)  female  35.0      1   \n",
      "2                            McCarthy, Mr. Timothy J    male  54.0      0   \n",
      "3                    Sandstrom, Miss. Marguerite Rut  female   4.0      1   \n",
      "4                           Bonnell, Miss. Elizabeth  female  58.0      0   \n",
      "\n",
      "   Parch    Ticket     Fare Cabin Embarked  \n",
      "0      0  PC 17599  71.2833   C85        C  \n",
      "1      0    113803  53.1000  C123        S  \n",
      "2      0     17463  51.8625   E46        S  \n",
      "3      1   PP 9549  16.7000    G6        S  \n",
      "4      0    113783  26.5500  C103        S  \n"
     ]
    }
   ],
   "source": [
    "# You could also remove this for all the data\n",
    "data_not_null = data[cabin_is_null == False]\n",
    "print(data_not_null.head())\n",
    "\n",
    "# And then reset the index\n",
    "data_not_null.reset_index(inplace=True)\n",
    "print(data_not_null.head())"
   ]
  },
  {
   "cell_type": "markdown",
   "metadata": {},
   "source": [
    "## Pivot tables\n",
    "A pivot table groups information. The pivot_table method takes three parameters:\n",
    "- index: the column to group by\n",
    "- values: column(s) to get data from\n",
    "- aggfunc: aggregate function to use"
   ]
  },
  {
   "cell_type": "code",
   "execution_count": 16,
   "metadata": {
    "collapsed": false
   },
   "outputs": [
    {
     "name": "stdout",
     "output_type": "stream",
     "text": [
      "Average age of survivors: 28.343689655172415\n",
      "Pivot table:\n",
      "Survived\n",
      "0    30.626179\n",
      "1    28.343690\n",
      "Name: Age, dtype: float64\n"
     ]
    }
   ],
   "source": [
    "import numpy as np\n",
    "\n",
    "# Average age of survivors\n",
    "survived = data[data['Survived']==True]\n",
    "\n",
    "# Remove null ages\n",
    "survived = survived[survived['Age'].isnull() == False]\n",
    "\n",
    "# Create pivot table to show average age for those who survived and check this against the survivors table\n",
    "average_survived = survived['Age'].mean()\n",
    "\n",
    "survived_pivot = data.pivot_table(index='Survived',values='Age',aggfunc=np.mean)\n",
    "print(\"Average age of survivors: {}\".format(average_survived))\n",
    "print(\"Pivot table:\")\n",
    "print(survived_pivot.head())"
   ]
  },
  {
   "cell_type": "code",
   "execution_count": 17,
   "metadata": {
    "collapsed": false
   },
   "outputs": [
    {
     "name": "stdout",
     "output_type": "stream",
     "text": [
      "                Age       Fare\n",
      "Survived                      \n",
      "0         30.626179  22.117887\n",
      "1         28.343690  48.395408\n"
     ]
    }
   ],
   "source": [
    "# You can also do this for multiple columns\n",
    "multiple_pivot = data.pivot_table(index='Survived',values=['Age','Fare'],aggfunc=np.mean)\n",
    "print(multiple_pivot)"
   ]
  },
  {
   "cell_type": "code",
   "execution_count": 18,
   "metadata": {
    "collapsed": false
   },
   "outputs": [
    {
     "name": "stdout",
     "output_type": "stream",
     "text": [
      "Not null data: (714, 12)\n",
      "Original data: (891, 12)\n"
     ]
    }
   ],
   "source": [
    "# Remove all rows with missing values in 'Age' or 'Fare'\n",
    "data_no_null_age_fare = data.dropna(axis=0,subset=['Age','Fare'])\n",
    "print(\"Not null data: {}\".format(data_no_null_age_fare.shape))\n",
    "print(\"Original data: {}\".format(data.shape))"
   ]
  },
  {
   "cell_type": "markdown",
   "metadata": {},
   "source": [
    "## Applying functions over a DataFrame\n",
    "DataFrame.apply() will call a function for each column.\n",
    "You can use 'axis=1' to send rows instead of columns."
   ]
  },
  {
   "cell_type": "code",
   "execution_count": 27,
   "metadata": {
    "collapsed": false
   },
   "outputs": [
    {
     "name": "stdout",
     "output_type": "stream",
     "text": [
      "Info: Age:22.0,Fare:7.25,Cabin:nan\n",
      "Info: Age:38.0,Fare:71.2833,Cabin:C85\n",
      "Info: Age:26.0,Fare:7.925,Cabin:nan\n",
      "Info: Age:35.0,Fare:53.1,Cabin:C123\n",
      "Info: Age:35.0,Fare:8.05,Cabin:nan\n",
      "Info: Age:nan,Fare:8.4583,Cabin:nan\n",
      "Info: Age:54.0,Fare:51.8625,Cabin:E46\n",
      "Info: Age:2.0,Fare:21.075,Cabin:nan\n",
      "Info: Age:27.0,Fare:11.1333,Cabin:nan\n",
      "Info: Age:14.0,Fare:30.0708,Cabin:nan\n",
      "\n"
     ]
    }
   ],
   "source": [
    "def print_some_info(row):\n",
    "    print(\"Info: Age:{},Fare:{},Cabin:{}\".format(row['Age'],row['Fare'],row['Cabin']))\n",
    "    \n",
    "subset = data[:10]\n",
    "subset.apply(print_some_info,axis=1)\n",
    "print()"
   ]
  },
  {
   "cell_type": "markdown",
   "metadata": {},
   "source": [
    "## More filtering"
   ]
  },
  {
   "cell_type": "code",
   "execution_count": 28,
   "metadata": {
    "collapsed": false
   },
   "outputs": [
    {
     "name": "stdout",
     "output_type": "stream",
     "text": [
      "Original data: (891, 12)\n",
      "Filtered data: (320, 12)\n"
     ]
    }
   ],
   "source": [
    "age_over_10 = data['Age'] > 10\n",
    "age_under_30 = data['Age'] < 30\n",
    "data_with_both = data[age_over_10 & age_under_30]\n",
    "print(\"Original data: {}\".format(data.shape))\n",
    "print(\"Filtered data: {}\".format(data_with_both.shape))"
   ]
  },
  {
   "cell_type": "markdown",
   "metadata": {},
   "source": [
    "## Indexes\n",
    "You can set a given column as index using: data.set_index('Column',drop=False)\n"
   ]
  },
  {
   "cell_type": "code",
   "execution_count": 33,
   "metadata": {
    "collapsed": false
   },
   "outputs": [
    {
     "name": "stdout",
     "output_type": "stream",
     "text": [
      "1    216\n",
      "2    184\n",
      "3    491\n",
      "Name: Pclass, dtype: int64\n"
     ]
    }
   ],
   "source": [
    "# Display the numer of unique values in a column\n",
    "print(data['Pclass'].value_counts().sort_index())"
   ]
  },
  {
   "cell_type": "code",
   "execution_count": 39,
   "metadata": {
    "collapsed": false
   },
   "outputs": [
    {
     "name": "stdout",
     "output_type": "stream",
     "text": [
      "Original: float64\n",
      "Converted: float64\n"
     ]
    }
   ],
   "source": [
    "# You can use apply to convert data\n",
    "def string_to_age(age):\n",
    "    if pd.isnull(age):\n",
    "        return None\n",
    "    return int(age)\n",
    "\n",
    "int_ages = data['Age'].apply(string_to_age)\n",
    "print(\"Original: {}\".format(data['Age'].dtype))\n",
    "print(\"Converted: {}\".format(int_ages.dtype))"
   ]
  },
  {
   "cell_type": "code",
   "execution_count": 48,
   "metadata": {
    "collapsed": false
   },
   "outputs": [
    {
     "name": "stdout",
     "output_type": "stream",
     "text": [
      "     Age  Survived\n",
      "0   22.0         0\n",
      "1   38.0         1\n",
      "2   26.0         1\n",
      "3   35.0         1\n",
      "4   35.0         0\n",
      "6   54.0         0\n",
      "7    2.0         0\n",
      "8   27.0         1\n",
      "9   14.0         1\n",
      "12  20.0         0\n"
     ]
    }
   ],
   "source": [
    "import pandas as pd\n",
    "titanic = pd.read_csv('titanic/train.csv')\n",
    "# Group by and aggregate\n",
    "titanic2 = titanic[['Age','Survived']].dropna() # Alternatively: fillna(value),f.ex df.mean()\n",
    "titanic2_grouped = titanic2.groupby('Survived')\n",
    "titanic2_grouped.agg(np.mean)\n",
    "print(titanic2_grouped.head())"
   ]
  },
  {
   "cell_type": "code",
   "execution_count": 50,
   "metadata": {
    "collapsed": false
   },
   "outputs": [
    {
     "name": "stdout",
     "output_type": "stream",
     "text": [
      "             PassengerId  Survived    Pclass       Age     SibSp     Parch  \\\n",
      "PassengerId    -2.000000 -0.005007 -0.035144  0.036847 -0.057527 -0.001652   \n",
      "Survived       -0.005007 -2.000000 -0.338481 -0.077221 -0.035322  0.081629   \n",
      "Pclass         -0.035144 -0.338481 -2.000000 -0.369226  0.083081  0.018443   \n",
      "Age             0.036847 -0.077221 -0.369226 -2.000000 -0.308247 -0.189119   \n",
      "SibSp          -0.057527 -0.035322  0.083081 -0.308247 -2.000000  0.414838   \n",
      "\n",
      "                 Fare  \n",
      "PassengerId  0.012658  \n",
      "Survived     0.257307  \n",
      "Pclass      -0.549500  \n",
      "Age          0.096067  \n",
      "SibSp        0.159651  \n"
     ]
    }
   ],
   "source": [
    "# To find correlations, we use corr()\n",
    "titanic_correlations = titanic.corr()\n",
    "np.fill_diagonal(titanic_correlations.values, -2) # Set self-correlations to lowest values so we can filter them out\n",
    "print(titanic_correlations.head())"
   ]
  },
  {
   "cell_type": "code",
   "execution_count": 61,
   "metadata": {
    "collapsed": false
   },
   "outputs": [
    {
     "name": "stdout",
     "output_type": "stream",
     "text": [
      "          s1         s2\n",
      "s4                     \n",
      "g1  2.666667  26.666667\n",
      "g2  3.500000  35.000000\n"
     ]
    }
   ],
   "source": [
    "# Group by, simplest example\n",
    "import pandas as pd\n",
    "s1 = pd.Series([1,2,3,4,5])\n",
    "s2 = pd.Series([10,20,30,40,50])\n",
    "s3 = pd.Series(['a','b','c','d','e'])\n",
    "s4 = pd.Series(['g1','g2','g1','g1','g2'])\n",
    "df = pd.DataFrame({'s1':s1,'s2':s2,'s3':s3,'s4':s4})\n",
    "\n",
    "group = df.groupby('s4')\n",
    "agg = group.agg(np.mean) # Will only include columns that can be aggregated on mean (s1,s2) and drop the others(s3)\n",
    "print(agg.head())"
   ]
  },
  {
   "cell_type": "code",
   "execution_count": null,
   "metadata": {
    "collapsed": true
   },
   "outputs": [],
   "source": []
  }
 ],
 "metadata": {
  "kernelspec": {
   "display_name": "Python [default]",
   "language": "python",
   "name": "python3"
  },
  "language_info": {
   "codemirror_mode": {
    "name": "ipython",
    "version": 3
   },
   "file_extension": ".py",
   "mimetype": "text/x-python",
   "name": "python",
   "nbconvert_exporter": "python",
   "pygments_lexer": "ipython3",
   "version": "3.5.2"
  }
 },
 "nbformat": 4,
 "nbformat_minor": 1
}
